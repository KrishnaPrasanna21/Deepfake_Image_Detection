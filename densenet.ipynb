{
  "cells": [
    {
      "cell_type": "code",
      "execution_count": null,
      "metadata": {
        "id": "Z_m0nyiltrDl"
      },
      "outputs": [],
      "source": [
        "import cv2\n",
        "import numpy as np\n",
        "from tensorflow.keras import layers\n",
        "from tensorflow.keras.applications import DenseNet121\n",
        "from tensorflow.keras.callbacks import Callback, ModelCheckpoint\n",
        "from tensorflow.keras.preprocessing.image import ImageDataGenerator\n",
        "from tensorflow.keras.models import Sequential\n",
        "from tensorflow.keras.optimizers import Adam\n",
        "import matplotlib.pyplot as plt\n",
        "import pandas as pd\n",
        "from sklearn.model_selection import train_test_split\n",
        "from sklearn import metrics\n",
        "import tensorflow as tf\n",
        "from tqdm import tqdm"
      ]
    },
    {
      "cell_type": "code",
      "execution_count": null,
      "metadata": {
        "colab": {
          "base_uri": "https://localhost:8080/"
        },
        "id": "sZVf5yfLt0Fg",
        "outputId": "540205ea-106c-4dd5-aa99-245493ddb995"
      },
      "outputs": [
        {
          "output_type": "stream",
          "name": "stdout",
          "text": [
            "Mounted at /content/drive\n"
          ]
        }
      ],
      "source": [
        "from google.colab import drive\n",
        "drive.mount('/content/drive')"
      ]
    },
    {
      "cell_type": "code",
      "execution_count": null,
      "metadata": {
        "id": "KVziDW9CtrDp"
      },
      "outputs": [],
      "source": [
        "# def build_model(pretrained):\n",
        "#     model = Sequential([\n",
        "#         pretrained,\n",
        "#         layers.GlobalAveragePooling2D(),\n",
        "#         layers.Dense(1, activation='sigmoid')\n",
        "#     ])\n",
        "\n",
        "#     model.compile(\n",
        "#         loss='binary_crossentropy',\n",
        "#         optimizer=Adam(),\n",
        "#         metrics=['accuracy']\n",
        "#     )\n",
        "\n",
        "#     return model"
      ]
    },
    {
      "cell_type": "markdown",
      "metadata": {
        "id": "gq0Nno7ltrDq"
      },
      "source": [
        "# Generator"
      ]
    },
    {
      "cell_type": "code",
      "execution_count": null,
      "metadata": {
        "colab": {
          "base_uri": "https://localhost:8080/"
        },
        "id": "Oc_QEny5trDs",
        "outputId": "a232c97f-7f2b-4bd0-db2c-e16ecc29cbd2"
      },
      "outputs": [
        {
          "name": "stdout",
          "output_type": "stream",
          "text": [
            "Found 2000 images belonging to 2 classes.\n"
          ]
        }
      ],
      "source": [
        "base_path = '/content/drive/MyDrive/finaldataset/'\n",
        "image_gen = ImageDataGenerator(rescale=1./255.)\n",
        "\n",
        "train_flow = image_gen.flow_from_directory(\n",
        "    base_path + 'train/',\n",
        "    target_size=(224, 224),\n",
        "    batch_size=64,\n",
        "    class_mode='binary'\n",
        ")"
      ]
    },
    {
      "cell_type": "code",
      "execution_count": null,
      "metadata": {
        "id": "gJZxG8EKtrDv"
      },
      "outputs": [],
      "source": [
        "# image_gen1 = ImageDataGenerator(rescale=1./255.)\n",
        "\n",
        "# valid_flow = image_gen1.flow_from_directory(\n",
        "#     base_path + 'valid/',\n",
        "#     target_size=(224, 224),\n",
        "#     batch_size=64,\n",
        "#     class_mode='binary'\n",
        "# )\n"
      ]
    },
    {
      "cell_type": "markdown",
      "metadata": {
        "id": "63Fc9kxrtrDw"
      },
      "source": [
        "# Train Model DenseNet   "
      ]
    },
    {
      "cell_type": "code",
      "execution_count": null,
      "metadata": {
        "colab": {
          "base_uri": "https://localhost:8080/"
        },
        "id": "aO9j7jAytrDw",
        "outputId": "f7deeb31-b68b-4bc2-a36f-0f994917e685"
      },
      "outputs": [
        {
          "name": "stdout",
          "output_type": "stream",
          "text": [
            "Model: \"sequential\"\n",
            "_________________________________________________________________\n",
            " Layer (type)                Output Shape              Param #   \n",
            "=================================================================\n",
            " densenet121 (Functional)    (None, 7, 7, 1024)        7037504   \n",
            "                                                                 \n",
            " global_average_pooling2d (G  (None, 1024)             0         \n",
            " lobalAveragePooling2D)                                          \n",
            "                                                                 \n",
            " dense (Dense)               (None, 1)                 1025      \n",
            "                                                                 \n",
            "=================================================================\n",
            "Total params: 7,038,529\n",
            "Trainable params: 6,954,881\n",
            "Non-trainable params: 83,648\n",
            "_________________________________________________________________\n"
          ]
        }
      ],
      "source": [
        "densenet = DenseNet121(\n",
        "    weights=None,\n",
        "    include_top=False,\n",
        "    input_shape=(224,224,3)\n",
        ")\n",
        "model = build_model(densenet)\n",
        "model.summary()"
      ]
    },
    {
      "cell_type": "code",
      "execution_count": null,
      "metadata": {
        "colab": {
          "background_save": true,
          "base_uri": "https://localhost:8080/"
        },
        "id": "1d8XR_5D75Ez",
        "outputId": "a709ce55-32cc-44be-e219-fe8b4eab0fc5"
      },
      "outputs": [
        {
          "name": "stderr",
          "output_type": "stream",
          "text": [
            "<ipython-input-9-6b9454bd496a>:1: UserWarning: `Model.fit_generator` is deprecated and will be removed in a future version. Please use `Model.fit`, which supports generators.\n",
            "  model.fit_generator(train_flow,epochs=10)\n"
          ]
        },
        {
          "name": "stdout",
          "output_type": "stream",
          "text": [
            "Epoch 1/10\n",
            "32/32 [==============================] - 2302s 72s/step - loss: 0.5905 - accuracy: 0.6950\n",
            "Epoch 2/10\n",
            "32/32 [==============================] - 2123s 66s/step - loss: 0.4985 - accuracy: 0.7600\n",
            "Epoch 3/10\n",
            "32/32 [==============================] - 2089s 65s/step - loss: 0.4765 - accuracy: 0.7640\n",
            "Epoch 4/10\n",
            "10/32 [========>.....................] - ETA: 22:22 - loss: 0.4322 - accuracy: 0.8074"
          ]
        }
      ],
      "source": [
        "model.fit_generator(train_flow,epochs=10)"
      ]
    },
    {
      "cell_type": "code",
      "execution_count": null,
      "metadata": {
        "colab": {
          "base_uri": "https://localhost:8080/"
        },
        "id": "HneKrJMJR8s1",
        "outputId": "41e5169a-e270-4f77-a778-cd1b52644d4d"
      },
      "outputs": [
        {
          "name": "stderr",
          "output_type": "stream",
          "text": [
            "<ipython-input-7-2052fa1d5f91>:4: UserWarning: `Model.fit_generator` is deprecated and will be removed in a future version. Please use `Model.fit`, which supports generators.\n",
            "  history = model.fit_generator(\n"
          ]
        },
        {
          "name": "stdout",
          "output_type": "stream",
          "text": [
            "Epoch 1/10\n",
            "6/6 [==============================] - 542s 86s/step - loss: 0.8739 - accuracy: 0.4985 - val_loss: 0.6938 - val_accuracy: 0.5052\n",
            "Epoch 2/10\n",
            "6/6 [==============================] - 334s 56s/step - loss: 0.7300 - accuracy: 0.5373 - val_loss: 0.6966 - val_accuracy: 0.4922\n",
            "Epoch 3/10\n",
            "6/6 [==============================] - 338s 57s/step - loss: 0.6837 - accuracy: 0.5731 - val_loss: 0.7014 - val_accuracy: 0.5026\n",
            "Epoch 4/10\n",
            "6/6 [==============================] - 362s 62s/step - loss: 0.6492 - accuracy: 0.6615 - val_loss: 0.7097 - val_accuracy: 0.5078\n",
            "Epoch 5/10\n",
            "6/6 [==============================] - 332s 56s/step - loss: 0.6441 - accuracy: 0.6657 - val_loss: 0.6957 - val_accuracy: 0.5339\n",
            "Epoch 6/10\n",
            "6/6 [==============================] - 334s 57s/step - loss: 0.6071 - accuracy: 0.6955 - val_loss: 0.7033 - val_accuracy: 0.5000\n",
            "Epoch 7/10\n",
            "6/6 [==============================] - 330s 56s/step - loss: 0.5870 - accuracy: 0.6866 - val_loss: 0.6916 - val_accuracy: 0.5417\n",
            "Epoch 8/10\n",
            "6/6 [==============================] - 335s 57s/step - loss: 0.5258 - accuracy: 0.7343 - val_loss: 0.6924 - val_accuracy: 0.5104\n",
            "Epoch 9/10\n",
            "6/6 [==============================] - 336s 57s/step - loss: 0.5326 - accuracy: 0.7224 - val_loss: 0.7322 - val_accuracy: 0.4948\n",
            "Epoch 10/10\n",
            "6/6 [==============================] - 336s 56s/step - loss: 0.5882 - accuracy: 0.6687 - val_loss: 0.7081 - val_accuracy: 0.5156\n"
          ]
        }
      ],
      "source": [
        "train_steps = 399//64\n",
        "valid_steps = 400//64\n",
        "\n",
        "history = model.fit_generator(\n",
        "    train_flow,\n",
        "    epochs = 10,\n",
        "    steps_per_epoch =train_steps,\n",
        "    validation_data =valid_flow,\n",
        "    validation_steps = valid_steps\n",
        ")\n"
      ]
    },
    {
      "cell_type": "markdown",
      "metadata": {
        "id": "4AhnfxiptrDx"
      },
      "source": [
        "# Evaluation"
      ]
    },
    {
      "cell_type": "code",
      "execution_count": null,
      "metadata": {
        "id": "-rEKhrVFtrDx"
      },
      "outputs": [],
      "source": [
        "model.save('completed_trained_model.h5')"
      ]
    },
    {
      "cell_type": "code",
      "execution_count": null,
      "metadata": {
        "id": "SfMOAERFtrDy"
      },
      "outputs": [],
      "source": [
        "def plot_loss(epochs, loss, val_loss):\n",
        "    plt.plot(epochs, loss, 'bo', label='Training Loss')\n",
        "    plt.plot(epochs, val_loss, 'orange', label = 'Validation Loss')\n",
        "    plt.title('Training and Validation Loss')\n",
        "    plt.legend()\n",
        "    plt.show()\n",
        "\n",
        "def plot_accuracy(epochs, acc, val_acc):\n",
        "    plt.plot(epochs, acc, 'bo', label='Training accuracy')\n",
        "    plt.plot(epochs, val_acc, 'orange', label = 'Validation accuracy')\n",
        "    plt.title('Training and Validation Accuracy')\n",
        "    plt.legend()\n",
        "    plt.show()"
      ]
    },
    {
      "cell_type": "code",
      "execution_count": null,
      "metadata": {
        "id": "1bDSSTV0trDy"
      },
      "outputs": [],
      "source": [
        "acc = history.history['accuracy']\n",
        "val_acc = history.history['val_accuracy']\n",
        "loss = history.history['loss']\n",
        "val_loss = history.history['val_loss']"
      ]
    },
    {
      "cell_type": "code",
      "execution_count": null,
      "metadata": {
        "colab": {
          "base_uri": "https://localhost:8080/",
          "height": 887
        },
        "id": "GKueIZt-trDy",
        "outputId": "b827f388-eaa1-4079-83d0-733e11ca4a83"
      },
      "outputs": [
        {
          "data": {
            "image/png": "[encoded data removed]",
            "text/plain": [
              "<Figure size 640x480 with 1 Axes>"
            ]
          },
          "metadata": {},
          "output_type": "display_data"
        },
        {
          "data": {
            "image/png": "[encoded data removed]",
            "text/plain": [
              "<Figure size 640x480 with 1 Axes>"
            ]
          },
          "metadata": {},
          "output_type": "display_data"
        }
      ],
      "source": [
        "plot_loss(range(1, len(loss) + 1), loss, val_loss)\n",
        "plot_accuracy(range(1, len(loss) + 1), acc, val_acc)"
      ]
    },
    {
      "cell_type": "code",
      "execution_count": null,
      "metadata": {
        "id": "6ZRrv9dStrDz",
        "outputId": "8cbcdb9d-7848-41d1-9f27-aa0ad9c1eeb0"
      },
      "outputs": [
        {
          "name": "stdout",
          "output_type": "stream",
          "text": [
            "Found 20000 images belonging to 2 classes.\n"
          ]
        }
      ],
      "source": [
        "test_flow = image_gen1.flow_from_directory(\n",
        "    base_path + 'test/',\n",
        "    target_size=(224, 224),\n",
        "    batch_size=1,\n",
        "    shuffle = False,\n",
        "    class_mode='binary'\n",
        ")\n",
        "y_pred = model.predict(test_flow)\n",
        "y_test = test_flow.classes"
      ]
    },
    {
      "cell_type": "code",
      "execution_count": null,
      "metadata": {
        "id": "9zfaHUCbtrDz",
        "outputId": "5587aa9e-040e-43cd-ae15-a7ef09ec2841"
      },
      "outputs": [
        {
          "name": "stdout",
          "output_type": "stream",
          "text": [
            "ROC AUC Score: 0.992412935\n",
            "AP Score: 0.9915270175017084\n",
            "\n",
            "              precision    recall  f1-score   support\n",
            "\n",
            "           0       1.00      0.83      0.91     10000\n",
            "           1       0.86      1.00      0.92     10000\n",
            "\n",
            "    accuracy                           0.92     20000\n",
            "   macro avg       0.93      0.92      0.91     20000\n",
            "weighted avg       0.93      0.92      0.91     20000\n",
            "\n"
          ]
        }
      ],
      "source": [
        "print(\"ROC AUC Score:\", metrics.roc_auc_score(y_test, y_pred))\n",
        "print(\"AP Score:\", metrics.average_precision_score(y_test, y_pred))\n",
        "print()\n",
        "print(metrics.classification_report(y_test, y_pred > 0.5))"
      ]
    }
  ],
  "metadata": {
    "accelerator": "TPU",
    "colab": {
      "provenance": []
    },
    "kernelspec": {
      "display_name": "Python 3",
      "name": "python3"
    },
    "language_info": {
      "codemirror_mode": {
        "name": "ipython",
        "version": 3
      },
      "file_extension": ".py",
      "mimetype": "text/x-python",
      "name": "python",
      "nbconvert_exporter": "python",
      "pygments_lexer": "ipython3",
      "version": "3.7.3"
    }
  },
  "nbformat": 4,
  "nbformat_minor": 0
}