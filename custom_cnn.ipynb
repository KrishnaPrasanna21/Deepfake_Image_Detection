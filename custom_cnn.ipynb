{
  "cells": [
    {
      "cell_type": "code",
      "execution_count": 1,
      "metadata": {
        "id": "bfUhkGpWWwxz"
      },
      "outputs": [
        {
          "name": "stderr",
          "output_type": "stream",
          "text": [
            "c:\\Users\\Manas\\AppData\\Local\\Programs\\Python\\Python39\\lib\\site-packages\\requests\\__init__.py:109: RequestsDependencyWarning: urllib3 (1.26.9) or chardet (2.0.3)/charset_normalizer (2.0.12) doesn't match a supported version!\n",
            "  warnings.warn(\n"
          ]
        }
      ],
      "source": [
        "%matplotlib inline\n",
        "import matplotlib.pyplot as plt\n",
        "from PIL import Image\n",
        "import numpy as np\n",
        "import math\n",
        "import copy\n",
        "import numpy as np\n",
        "\n",
        "from keras.models import Sequential, Model\n",
        "from keras.layers import Input, Dense, Flatten, Dropout, Activation, Lambda, Permute, Reshape\n",
        "from keras.layers import Convolution2D, ZeroPadding2D, MaxPooling2D\n",
        "#from keras_vggface.vggface import VGGFace\n",
        "#from keras_vggface import utils\n",
        "from keras.preprocessing import image\n",
        "from keras.preprocessing.image import ImageDataGenerator\n",
        "\n",
        "from sklearn.datasets import load_files\n",
        "#from keras.utils import np_utils\n",
        "import numpy as np\n",
        "from glob import glob\n",
        "import pandas as pd\n",
        "# import cv2\n",
        "# import scipy.misc\n",
        "# import matplotlib.pyplot as plt\n",
        "# from tqdm import tqdm"
      ]
    },
    {
      "cell_type": "code",
      "execution_count": null,
      "metadata": {
        "colab": {
          "base_uri": "https://localhost:8080/"
        },
        "id": "R3DEyPubmQqw",
        "outputId": "78868a74-1d1a-4d9f-de70-79984dadeae2"
      },
      "outputs": [
        {
          "name": "stdout",
          "output_type": "stream",
          "text": [
            "Mounted at /content/drive\n"
          ]
        }
      ],
      "source": [
        "from google.colab import drive\n",
        "drive.mount('/content/drive')"
      ]
    },
    {
      "cell_type": "markdown",
      "metadata": {
        "id": "lsrM6wJuWwx0"
      },
      "source": [
        "# load dataset\n"
      ]
    },
    {
      "cell_type": "code",
      "execution_count": 10,
      "metadata": {
        "colab": {
          "base_uri": "https://localhost:8080/"
        },
        "id": "P4mUw0hjWwx1",
        "outputId": "dcffe9b2-29a3-4d6d-e524-8177e81afc96"
      },
      "outputs": [
        {
          "name": "stdout",
          "output_type": "stream",
          "text": [
            "Found 400 images belonging to 2 classes.\n"
          ]
        }
      ],
      "source": [
        "base_path = 'C:\\\\Users\\\\Manas\\\\major_datset\\\\valid'\n",
        "image_gen = ImageDataGenerator(rescale=1./255.)\n",
        "val_flow = image_gen.flow_from_directory(\n",
        "    base_path,\n",
        "    class_mode='binary'\n",
        ")"
      ]
    },
    {
      "cell_type": "code",
      "execution_count": 3,
      "metadata": {
        "id": "soWMowK9a_a4"
      },
      "outputs": [
        {
          "name": "stdout",
          "output_type": "stream",
          "text": [
            "Found 7000 images belonging to 2 classes.\n"
          ]
        }
      ],
      "source": [
        "base_path = 'C:\\\\Users\\\\Manas\\\\Downloads\\\\ff'\n",
        "image_gen = ImageDataGenerator(rescale=1./255.)\n",
        "batch_size = 64\n",
        "train_flow = image_gen.flow_from_directory(\n",
        "    base_path ,\n",
        "    batch_size=batch_size,\n",
        "    class_mode='binary'\n",
        ")"
      ]
    },
    {
      "cell_type": "code",
      "execution_count": 4,
      "metadata": {
        "colab": {
          "base_uri": "https://localhost:8080/"
        },
        "id": "xaYgL5dpaNC1",
        "outputId": "39fa332f-3689-4051-8b55-0be44f2dd1e1"
      },
      "outputs": [
        {
          "name": "stdout",
          "output_type": "stream",
          "text": [
            "Class: fake, Index: 0\n",
            "Class: real, Index: 1\n"
          ]
        }
      ],
      "source": [
        "# Get the class indices\n",
        "class_indices = train_flow.class_indices\n",
        "\n",
        "# Get the list of class labels\n",
        "class_labels = list(class_indices.keys())\n",
        "\n",
        "# Print the classes and their corresponding labels\n",
        "for class_label in class_labels:\n",
        "  class_index = class_indices[class_label]\n",
        "  print(f\"Class: {class_label}, Index: {class_index}\")"
      ]
    },
    {
      "cell_type": "code",
      "execution_count": 6,
      "metadata": {
        "id": "YPOTtSsda1ye"
      },
      "outputs": [],
      "source": [
        "# import cv2\n",
        "import numpy as np\n",
        "from tensorflow.keras import layers\n",
        "from tensorflow.keras.callbacks import Callback, ModelCheckpoint\n",
        "from tensorflow.keras.preprocessing.image import ImageDataGenerator\n",
        "from tensorflow.keras.models import Sequential\n",
        "from tensorflow.keras.optimizers import Adam\n",
        "# import matplotlib.pyplot as plt\n",
        "import pandas as pd\n",
        "from sklearn.model_selection import train_test_split\n",
        "from sklearn import metrics\n",
        "import tensorflow as tf\n",
        "# from tqdm import tqdm"
      ]
    },
    {
      "cell_type": "code",
      "execution_count": 7,
      "metadata": {
        "id": "iMimBaPgbW2i"
      },
      "outputs": [],
      "source": [
        "from keras.models import Model as KerasModel\n",
        "from keras.layers import Input, Dense,Flatten, Conv2D, MaxPooling2D, BatchNormalization, Dropout, Reshape, Concatenate, LeakyReLU,AveragePooling2D\n",
        "# from keras.optimizers import Adam\n"
      ]
    },
    {
      "cell_type": "markdown",
      "metadata": {
        "id": "X3CfdNwPWwx2"
      },
      "source": [
        "# Custom Architecture"
      ]
    },
    {
      "cell_type": "code",
      "execution_count": 8,
      "metadata": {
        "colab": {
          "base_uri": "https://localhost:8080/"
        },
        "id": "YVTJujBKDQ3A",
        "outputId": "865c32c5-7c0c-4685-d730-befe314c823c"
      },
      "outputs": [
        {
          "name": "stdout",
          "output_type": "stream",
          "text": [
            "Model: \"model\"\n",
            "_________________________________________________________________\n",
            " Layer (type)                Output Shape              Param #   \n",
            "=================================================================\n",
            " input_1 (InputLayer)        [(None, None, None, 3)]   0         \n",
            "                                                                 \n",
            " conv2d (Conv2D)             (None, None, None, 8)     224       \n",
            "                                                                 \n",
            " batch_normalization (BatchN  (None, None, None, 8)    32        \n",
            " ormalization)                                                   \n",
            "                                                                 \n",
            " conv2d_1 (Conv2D)           (None, None, None, 16)    1168      \n",
            "                                                                 \n",
            " conv2d_2 (Conv2D)           (None, None, None, 16)    2320      \n",
            "                                                                 \n",
            " batch_normalization_1 (Batc  (None, None, None, 16)   64        \n",
            " hNormalization)                                                 \n",
            "                                                                 \n",
            " average_pooling2d (AverageP  (None, None, None, 16)   0         \n",
            " ooling2D)                                                       \n",
            "                                                                 \n",
            " conv2d_3 (Conv2D)           (None, None, None, 32)    4640      \n",
            "                                                                 \n",
            " conv2d_4 (Conv2D)           (None, None, None, 32)    9248      \n",
            "                                                                 \n",
            " conv2d_5 (Conv2D)           (None, None, None, 32)    9248      \n",
            "                                                                 \n",
            " batch_normalization_2 (Batc  (None, None, None, 32)   128       \n",
            " hNormalization)                                                 \n",
            "                                                                 \n",
            " average_pooling2d_1 (Averag  (None, None, None, 32)   0         \n",
            " ePooling2D)                                                     \n",
            "                                                                 \n",
            " conv2d_6 (Conv2D)           (None, None, None, 64)    18496     \n",
            "                                                                 \n",
            " conv2d_7 (Conv2D)           (None, None, None, 64)    36928     \n",
            "                                                                 \n",
            " conv2d_8 (Conv2D)           (None, None, None, 64)    36928     \n",
            "                                                                 \n",
            " conv2d_9 (Conv2D)           (None, None, None, 64)    36928     \n",
            "                                                                 \n",
            " batch_normalization_3 (Batc  (None, None, None, 64)   256       \n",
            " hNormalization)                                                 \n",
            "                                                                 \n",
            " average_pooling2d_2 (Averag  (None, None, None, 64)   0         \n",
            " ePooling2D)                                                     \n",
            "                                                                 \n",
            " conv2d_10 (Conv2D)          (None, None, None, 128)   73856     \n",
            "                                                                 \n",
            " batch_normalization_4 (Batc  (None, None, None, 128)  512       \n",
            " hNormalization)                                                 \n",
            "                                                                 \n",
            " max_pooling2d (MaxPooling2D  (None, None, None, 128)  0         \n",
            " )                                                               \n",
            "                                                                 \n",
            " conv2d_11 (Conv2D)          (None, None, None, 256)   295168    \n",
            "                                                                 \n",
            " batch_normalization_5 (Batc  (None, None, None, 256)  1024      \n",
            " hNormalization)                                                 \n",
            "                                                                 \n",
            " max_pooling2d_1 (MaxPooling  (None, None, None, 256)  0         \n",
            " 2D)                                                             \n",
            "                                                                 \n",
            " global_average_pooling2d (G  (None, 256)              0         \n",
            " lobalAveragePooling2D)                                          \n",
            "                                                                 \n",
            " dropout (Dropout)           (None, 256)               0         \n",
            "                                                                 \n",
            " dense (Dense)               (None, 32)                8224      \n",
            "                                                                 \n",
            " leaky_re_lu_2 (LeakyReLU)   (None, 32)                0         \n",
            "                                                                 \n",
            " dropout_1 (Dropout)         (None, 32)                0         \n",
            "                                                                 \n",
            " dense_1 (Dense)             (None, 16)                528       \n",
            "                                                                 \n",
            " leaky_re_lu_4 (LeakyReLU)   (None, 16)                0         \n",
            "                                                                 \n",
            " dropout_2 (Dropout)         (None, 16)                0         \n",
            "                                                                 \n",
            " dense_2 (Dense)             (None, 1)                 17        \n",
            "                                                                 \n",
            "=================================================================\n",
            "Total params: 535,937\n",
            "Trainable params: 534,929\n",
            "Non-trainable params: 1,008\n",
            "_________________________________________________________________\n"
          ]
        }
      ],
      "source": [
        "from keras.layers import Input, Conv2D, BatchNormalization, AveragePooling2D, MaxPooling2D, GlobalAveragePooling2D, Dropout, Dense, LeakyReLU\n",
        "from keras.models import Model\n",
        "\n",
        "# Define parameters\n",
        "activation = LeakyReLU(0.01)\n",
        "padding = 'same'\n",
        "droprate = 0.5\n",
        "epsilon = 0.001\n",
        "\n",
        "# Define the input shape based on the expected resolution\n",
        "input_shape = (None, None, 3)\n",
        "\n",
        "# Input layer\n",
        "inputs = Input(shape=input_shape)\n",
        "\n",
        "# Convolutional layers\n",
        "x = Conv2D(filters=8, kernel_size=3, activation=activation, padding=padding)(inputs)\n",
        "x = BatchNormalization(epsilon=epsilon)(x)\n",
        "x = Conv2D(filters=16, kernel_size=3, activation=activation, padding=padding)(x)\n",
        "x = Conv2D(filters=16, kernel_size=3, activation=activation, padding=padding)(x)\n",
        "x = BatchNormalization(epsilon=epsilon)(x)\n",
        "x = AveragePooling2D(pool_size=2)(x)\n",
        "\n",
        "x = Conv2D(filters=32, kernel_size=3, activation=activation, padding=padding)(x)\n",
        "x = Conv2D(filters=32, kernel_size=3, activation=activation, padding=padding)(x)\n",
        "x = Conv2D(filters=32, kernel_size=3, activation=activation, padding=padding)(x)\n",
        "x = BatchNormalization(epsilon=epsilon)(x)\n",
        "x = AveragePooling2D(pool_size=2)(x)\n",
        "\n",
        "x = Conv2D(filters=64, kernel_size=3, activation=activation, padding=padding)(x)\n",
        "x = Conv2D(filters=64, kernel_size=3, activation=activation, padding=padding)(x)\n",
        "x = Conv2D(filters=64, kernel_size=3, activation=activation, padding=padding)(x)\n",
        "x = Conv2D(filters=64, kernel_size=3, activation=activation, padding=padding)(x)\n",
        "x = BatchNormalization(epsilon=epsilon)(x)\n",
        "x = AveragePooling2D(pool_size=2)(x)\n",
        "\n",
        "x = Conv2D(filters=128, kernel_size=3, activation=activation, padding=padding)(x)\n",
        "x = BatchNormalization(epsilon=epsilon)(x)\n",
        "x = MaxPooling2D(pool_size=2)(x)\n",
        "\n",
        "x = Conv2D(filters=256, kernel_size=3, activation=activation, padding=padding)(x)\n",
        "x = BatchNormalization(epsilon=epsilon)(x)\n",
        "x = MaxPooling2D(pool_size=2)(x)\n",
        "\n",
        "# Global Average Pooling\n",
        "x = GlobalAveragePooling2D()(x)\n",
        "\n",
        "# Fully connected layers\n",
        "x = Dropout(droprate)(x)\n",
        "x = Dense(32, kernel_initializer='glorot_normal', activation=LeakyReLU(0.01))(x)\n",
        "x = LeakyReLU(alpha=0.1)(x)\n",
        "x = Dropout(droprate)(x)\n",
        "x = Dense(16, kernel_initializer='glorot_normal', activation=LeakyReLU(0.01))(x)\n",
        "x = LeakyReLU(alpha=0.1)(x)\n",
        "x = Dropout(droprate)(x)\n",
        "outputs = Dense(1, kernel_initializer='glorot_normal', activation='sigmoid')(x)\n",
        "\n",
        "# Create model\n",
        "model2 = Model(inputs=inputs, outputs=outputs)\n",
        "model2.summary()\n"
      ]
    },
    {
      "cell_type": "markdown",
      "metadata": {
        "id": "NDZiIpq0Wwx2"
      },
      "source": [
        "# Model Compile"
      ]
    },
    {
      "cell_type": "code",
      "execution_count": 9,
      "metadata": {
        "id": "l98YBzU2DhiO"
      },
      "outputs": [],
      "source": [
        "# from keras.optimizers import Adam,Adadelta\n",
        "\n",
        "#opt = rmsprop(lr=0.0001, decay=1e-6)\n",
        "\n",
        "model2.compile(loss='binary_crossentropy',optimizer='adam', metrics=['accuracy'])"
      ]
    },
    {
      "cell_type": "code",
      "execution_count": 14,
      "metadata": {
        "id": "99aOKOlRG5NG"
      },
      "outputs": [],
      "source": [
        "from tensorflow.keras.callbacks import ModelCheckpoint\n",
        "\n",
        "# Define checkpoint callback\n",
        "checkpoint_path = \"C:\\\\Users\\\\Manas\\\\checkpoint11.h5\"\n",
        "checkpoint_callback = ModelCheckpoint(filepath=checkpoint_path,\n",
        "                                      save_weights_only=True,\n",
        "                                      monitor='accuracy',\n",
        "                                      save_best_only=True,\n",
        "                                      verbose=1)"
      ]
    },
    {
      "cell_type": "code",
      "execution_count": 32,
      "metadata": {},
      "outputs": [
        {
          "name": "stdout",
          "output_type": "stream",
          "text": [
            "Requirement already satisfied: Pillow in c:\\users\\manas\\appdata\\local\\programs\\python\\python310\\lib\\site-packages (9.1.1)\n",
            "Note: you may need to restart the kernel to use updated packages.\n"
          ]
        }
      ],
      "source": [
        "pip install Pillow"
      ]
    },
    {
      "cell_type": "code",
      "execution_count": 15,
      "metadata": {
        "colab": {
          "base_uri": "https://localhost:8080/"
        },
        "id": "v_pmmUatG9TC",
        "outputId": "cf4722d3-309b-4e11-a3e6-f693f75a88bb"
      },
      "outputs": [
        {
          "name": "stdout",
          "output_type": "stream",
          "text": [
            "Epoch 1/100\n"
          ]
        }
      ],
      "source": [
        "model2.fit(train_flow,\n",
        "          epochs=100,validation_data=val_flow,callbacks=[checkpoint_callback])\n"
      ]
    },
    {
      "cell_type": "code",
      "execution_count": null,
      "metadata": {
        "id": "hsohd0tkO8ZO"
      },
      "outputs": [],
      "source": [
        "model2.save('custom.h5')"
      ]
    },
    {
      "cell_type": "code",
      "execution_count": null,
      "metadata": {
        "id": "RW73pMHYWwx4"
      },
      "outputs": [],
      "source": [
        "model.save(\"custom_model.h5\") # save model"
      ]
    },
    {
      "cell_type": "code",
      "execution_count": null,
      "metadata": {
        "colab": {
          "base_uri": "https://localhost:8080/",
          "height": 927
        },
        "id": "qCd3DlvZR4qE",
        "outputId": "7bce34b9-f023-44d8-d60d-415768518f9e"
      },
      "outputs": [
        {
          "data": {
            "image/png": "[encoded data removed]",
            "text/plain": [
              "<Figure size 640x480 with 1 Axes>"
            ]
          },
          "metadata": {},
          "output_type": "display_data"
        },
        {
          "data": {
            "image/png": "[encoded data removed]",
            "text/plain": [
              "<Figure size 640x480 with 1 Axes>"
            ]
          },
          "metadata": {},
          "output_type": "display_data"
        }
      ],
      "source": [
        "import matplotlib.pyplot as plt\n",
        "plt.figure(0)\n",
        "plt.plot(model2.history.history['accuracy'], label='training accuracy')\n",
        "#plt.plot(model2.history.history['loss'], label='training loss')\n",
        "plt.title('Accuracy')\n",
        "plt.xlabel('epochs')\n",
        "plt.ylabel('accuracy')\n",
        "plt.legend()\n",
        "plt.show()\n",
        "plt.figure(1)\n",
        "plt.plot(model2.history.history['loss'], label='training loss')\n",
        "#plt.plot(model.history.history['val_loss'], label='val loss')\n",
        "plt.title('Loss')\n",
        "plt.xlabel('epochs')\n",
        "plt.ylabel('loss')\n",
        "plt.legend()\n",
        "plt.show()"
      ]
    },
    {
      "cell_type": "code",
      "execution_count": null,
      "metadata": {
        "id": "TiJMJTgQWCJz"
      },
      "outputs": [],
      "source": [
        "import pickle\n",
        "with open('/content/history.pkl', 'wb') as file:\n",
        "    pickle.dump(model2.history.history, file)"
      ]
    },
    {
      "cell_type": "code",
      "execution_count": null,
      "metadata": {
        "colab": {
          "base_uri": "https://localhost:8080/"
        },
        "id": "37Qq1wJxZD9b",
        "outputId": "6c6e48a5-1352-49e3-85b2-2f9984ac7240"
      },
      "outputs": [
        {
          "name": "stdout",
          "output_type": "stream",
          "text": [
            "1/1 [==============================] - 1s 757ms/step - loss: 1.4425e-04 - accuracy: 1.0000\n",
            "Validation Loss: 0.00014425328117795289\n",
            "Validation Accuracy: 1.0\n",
            "1/1 [==============================] - 1s 543ms/step - loss: 1.4425e-04 - accuracy: 1.0000\n",
            "Validation Loss: 0.00014425328117795289\n",
            "Validation Accuracy: 1.0\n",
            "1/1 [==============================] - 1s 731ms/step - loss: 1.4425e-04 - accuracy: 1.0000\n",
            "Validation Loss: 0.00014425328117795289\n",
            "Validation Accuracy: 1.0\n"
          ]
        },
        {
          "name": "stderr",
          "output_type": "stream",
          "text": [
            "Exception ignored in: <function _xla_gc_callback at 0x7e35607a3c70>\n",
            "Traceback (most recent call last):\n",
            "  File \"/usr/local/lib/python3.10/dist-packages/jax/_src/lib/__init__.py\", line 97, in _xla_gc_callback\n",
            "    def _xla_gc_callback(*args):\n",
            "KeyboardInterrupt: \n"
          ]
        },
        {
          "name": "stdout",
          "output_type": "stream",
          "text": [
            "1/1 [==============================] - 1s 742ms/step - loss: 1.4425e-04 - accuracy: 1.0000\n",
            "Validation Loss: 0.00014425322297029197\n",
            "Validation Accuracy: 1.0\n",
            "1/1 [==============================] - 1s 699ms/step - loss: 1.4425e-04 - accuracy: 1.0000\n",
            "Validation Loss: 0.00014425328117795289\n",
            "Validation Accuracy: 1.0\n"
          ]
        }
      ],
      "source": [
        "for i in range(0,5):\n",
        "       loss, accuracy = model2.evaluate(val_flow)\n",
        "\n",
        "       print(\"Validation Loss:\", loss)\n",
        "       print(\"Validation Accuracy:\", accuracy)"
      ]
    }
  ],
  "metadata": {
    "colab": {
      "provenance": []
    },
    "kernelspec": {
      "display_name": "Python 3",
      "name": "python3"
    },
    "language_info": {
      "codemirror_mode": {
        "name": "ipython",
        "version": 3
      },
      "file_extension": ".py",
      "mimetype": "text/x-python",
      "name": "python",
      "nbconvert_exporter": "python",
      "pygments_lexer": "ipython3",
      "version": "3.9.4"
    }
  },
  "nbformat": 4,
  "nbformat_minor": 0
}
