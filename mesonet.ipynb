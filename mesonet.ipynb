{
  "nbformat": 4,
  "nbformat_minor": 0,
  "metadata": {
    "colab": {
      "provenance": []
    },
    "kernelspec": {
      "name": "python3",
      "display_name": "Python 3"
    },
    "language_info": {
      "name": "python"
    }
  },
  "cells": [
    {
      "cell_type": "code",
      "execution_count": null,
      "metadata": {
        "id": "KQTxgIrpXwBd"
      },
      "outputs": [],
      "source": [
        "from keras.models import Model as KerasModel\n",
        "from keras.layers import Input, Dense,Flatten, Conv2D, MaxPooling2D, BatchNormalization, Dropout, Reshape, Concatenate, LeakyReLU\n",
        "from keras.optimizers import Adam\n",
        "\n",
        "IMGWIDTH = 256"
      ]
    },
    {
      "cell_type": "code",
      "source": [
        "from google.colab import drive\n",
        "drive.mount('/content/drive')"
      ],
      "metadata": {
        "colab": {
          "base_uri": "https://localhost:8080/"
        },
        "id": "WbWQjg3EYlYi",
        "outputId": "aa79428f-8657-495b-8ab1-cfe1347cb17b"
      },
      "execution_count": null,
      "outputs": [
        {
          "output_type": "stream",
          "name": "stdout",
          "text": [
            "Mounted at /content/drive\n"
          ]
        }
      ]
    },
    {
      "cell_type": "code",
      "source": [
        "import cv2\n",
        "import numpy as np\n",
        "from tensorflow.keras import layers\n",
        "from tensorflow.keras.applications import DenseNet121\n",
        "from tensorflow.keras.callbacks import Callback, ModelCheckpoint\n",
        "from tensorflow.keras.preprocessing.image import ImageDataGenerator\n",
        "from tensorflow.keras.models import Sequential\n",
        "from tensorflow.keras.optimizers import Adam\n",
        "import matplotlib.pyplot as plt\n",
        "import pandas as pd\n",
        "from sklearn.model_selection import train_test_split\n",
        "from sklearn import metrics\n",
        "import tensorflow as tf\n",
        "from tqdm import tqdm"
      ],
      "metadata": {
        "id": "4EM7Rah3YhQ2"
      },
      "execution_count": null,
      "outputs": []
    },
    {
      "cell_type": "code",
      "source": [
        "base_path = '/content/drive/MyDrive/major_dataset/'\n",
        "image_gen = ImageDataGenerator(rescale=1./255.)\n",
        "\n",
        "train_flow = image_gen.flow_from_directory(\n",
        "    base_path + 'train/',\n",
        "    target_size=(224, 224),\n",
        "    batch_size=64,\n",
        "    class_mode='binary'\n",
        ")"
      ],
      "metadata": {
        "colab": {
          "base_uri": "https://localhost:8080/"
        },
        "id": "aZWs2IyWahx8",
        "outputId": "c0ee8a02-75c3-494f-deea-d1c78c6e98df"
      },
      "execution_count": null,
      "outputs": [
        {
          "output_type": "stream",
          "name": "stdout",
          "text": [
            "Found 399 images belonging to 2 classes.\n"
          ]
        }
      ]
    },
    {
      "cell_type": "code",
      "source": [
        "image_gen1 = ImageDataGenerator(rescale=1./255.)\n",
        "\n",
        "valid_flow = image_gen1.flow_from_directory(\n",
        "    base_path + 'valid/',\n",
        "    target_size=(224, 224),\n",
        "    batch_size=64,\n",
        "    class_mode='binary'\n",
        ")"
      ],
      "metadata": {
        "colab": {
          "base_uri": "https://localhost:8080/"
        },
        "id": "RUMidHZsbEgI",
        "outputId": "eb7f5b3c-4cdf-4fd9-e030-d1d3758498bc"
      },
      "execution_count": null,
      "outputs": [
        {
          "output_type": "stream",
          "name": "stdout",
          "text": [
            "Found 400 images belonging to 2 classes.\n"
          ]
        }
      ]
    },
    {
      "cell_type": "code",
      "source": [
        "model = Sequential()\n",
        "input_shape = (224,224,3)\n",
        "activation = 'relu'\n",
        "padding = 'same'\n",
        "droprate = 0.1\n",
        "epsilon=0.001\n",
        "model.add(Input(shape=(224, 224, 3)))\n",
        "model.add(Conv2D(8, (3,3), padding='same', activation='relu'))\n",
        "model.add(BatchNormalization())\n",
        "model.add(MaxPooling2D(pool_size=(2,2), padding='same'))\n",
        "model.add(Conv2D(8,(5,5), padding='same', activation='relu'))\n",
        "model.add(BatchNormalization())\n",
        "model.add(MaxPooling2D(pool_size=(2,2), padding='same'))\n",
        "\n",
        "model.add(Conv2D(16, (5,5), padding='same', activation='relu'))\n",
        "model.add(BatchNormalization())\n",
        "model.add(MaxPooling2D(pool_size=(2,2), padding='same'))\n",
        "\n",
        "model.add(Conv2D(16,(5,5), padding='same', activation='relu'))\n",
        "model.add(BatchNormalization())\n",
        "model.add(MaxPooling2D(pool_size=(4,4), padding='same'))\n",
        "\n",
        "model.add(Flatten())\n",
        "model.add(Dropout(0.5))\n",
        "model.add(Dense(16))\n",
        "model.add(LeakyReLU(alpha=0.1))\n",
        "model.add(Dropout(0.5))\n",
        "model.add(Dense(1, activation='sigmoid'))\n",
        "model.summary()\n"
      ],
      "metadata": {
        "colab": {
          "base_uri": "https://localhost:8080/"
        },
        "id": "HdwaqoaMY2qJ",
        "outputId": "9df09b82-6ace-4445-dc30-b6a5e9a549bb"
      },
      "execution_count": null,
      "outputs": [
        {
          "output_type": "stream",
          "name": "stdout",
          "text": [
            "Model: \"sequential\"\n",
            "_________________________________________________________________\n",
            " Layer (type)                Output Shape              Param #   \n",
            "=================================================================\n",
            " conv2d (Conv2D)             (None, 224, 224, 8)       224       \n",
            "                                                                 \n",
            " batch_normalization (Batch  (None, 224, 224, 8)       32        \n",
            " Normalization)                                                  \n",
            "                                                                 \n",
            " max_pooling2d (MaxPooling2  (None, 112, 112, 8)       0         \n",
            " D)                                                              \n",
            "                                                                 \n",
            " conv2d_1 (Conv2D)           (None, 112, 112, 8)       1608      \n",
            "                                                                 \n",
            " batch_normalization_1 (Bat  (None, 112, 112, 8)       32        \n",
            " chNormalization)                                                \n",
            "                                                                 \n",
            " max_pooling2d_1 (MaxPoolin  (None, 56, 56, 8)         0         \n",
            " g2D)                                                            \n",
            "                                                                 \n",
            " conv2d_2 (Conv2D)           (None, 56, 56, 16)        3216      \n",
            "                                                                 \n",
            " batch_normalization_2 (Bat  (None, 56, 56, 16)        64        \n",
            " chNormalization)                                                \n",
            "                                                                 \n",
            " max_pooling2d_2 (MaxPoolin  (None, 28, 28, 16)        0         \n",
            " g2D)                                                            \n",
            "                                                                 \n",
            " conv2d_3 (Conv2D)           (None, 28, 28, 16)        6416      \n",
            "                                                                 \n",
            " batch_normalization_3 (Bat  (None, 28, 28, 16)        64        \n",
            " chNormalization)                                                \n",
            "                                                                 \n",
            " max_pooling2d_3 (MaxPoolin  (None, 7, 7, 16)          0         \n",
            " g2D)                                                            \n",
            "                                                                 \n",
            " flatten (Flatten)           (None, 784)               0         \n",
            "                                                                 \n",
            " dropout (Dropout)           (None, 784)               0         \n",
            "                                                                 \n",
            " dense (Dense)               (None, 16)                12560     \n",
            "                                                                 \n",
            " leaky_re_lu (LeakyReLU)     (None, 16)                0         \n",
            "                                                                 \n",
            " dropout_1 (Dropout)         (None, 16)                0         \n",
            "                                                                 \n",
            " dense_1 (Dense)             (None, 1)                 17        \n",
            "                                                                 \n",
            "=================================================================\n",
            "Total params: 24233 (94.66 KB)\n",
            "Trainable params: 24137 (94.29 KB)\n",
            "Non-trainable params: 96 (384.00 Byte)\n",
            "_________________________________________________________________\n"
          ]
        }
      ]
    },
    {
      "cell_type": "code",
      "source": [
        "model.compile(loss='binary_crossentropy',optimizer=Adam(0.0001), metrics=['accuracy'])"
      ],
      "metadata": {
        "id": "z5LKsP57dwe3"
      },
      "execution_count": null,
      "outputs": []
    },
    {
      "cell_type": "code",
      "source": [
        "train_steps = 399//64\n",
        "valid_steps = 400//64\n",
        "\n",
        "history = model.fit_generator(\n",
        "    train_flow,\n",
        "    epochs = 10,\n",
        "    steps_per_epoch =train_steps,\n",
        "    validation_data =valid_flow,\n",
        "    validation_steps = valid_steps\n",
        ")"
      ],
      "metadata": {
        "id": "yBEk3Cvecsha",
        "colab": {
          "base_uri": "https://localhost:8080/"
        },
        "outputId": "c51f308e-bb14-445a-b2a4-a2583c85a2fa"
      },
      "execution_count": null,
      "outputs": [
        {
          "output_type": "stream",
          "name": "stderr",
          "text": [
            "<ipython-input-9-2052fa1d5f91>:4: UserWarning: `Model.fit_generator` is deprecated and will be removed in a future version. Please use `Model.fit`, which supports generators.\n",
            "  history = model.fit_generator(\n"
          ]
        },
        {
          "output_type": "stream",
          "name": "stdout",
          "text": [
            "6/6 [==============================] - 224s 41s/step - loss: 2.9287 - accuracy: 0.4776 - val_loss: 0.6940 - val_accuracy: 0.4922\n",
            "Epoch 2/10\n",
            "6/6 [==============================] - 72s 14s/step - loss: 2.2190 - accuracy: 0.5104 - val_loss: 0.6939 - val_accuracy: 0.4531\n",
            "Epoch 3/10\n",
            "6/6 [==============================] - 71s 13s/step - loss: 2.0812 - accuracy: 0.5582 - val_loss: 0.6936 - val_accuracy: 0.4688\n",
            "Epoch 4/10\n",
            "6/6 [==============================] - 51s 9s/step - loss: 2.0752 - accuracy: 0.5343 - val_loss: 0.6935 - val_accuracy: 0.4844\n",
            "Epoch 5/10\n",
            "6/6 [==============================] - 75s 13s/step - loss: 1.6190 - accuracy: 0.5234 - val_loss: 0.6934 - val_accuracy: 0.5104\n",
            "Epoch 6/10\n",
            "6/6 [==============================] - 71s 13s/step - loss: 1.8522 - accuracy: 0.5343 - val_loss: 0.6932 - val_accuracy: 0.5208\n",
            "Epoch 7/10\n",
            "6/6 [==============================] - 78s 14s/step - loss: 1.6142 - accuracy: 0.5373 - val_loss: 0.6933 - val_accuracy: 0.5052\n",
            "Epoch 8/10\n",
            "6/6 [==============================] - 55s 9s/step - loss: 1.4811 - accuracy: 0.5522 - val_loss: 0.6929 - val_accuracy: 0.5052\n",
            "Epoch 9/10\n",
            "6/6 [==============================] - 71s 13s/step - loss: 1.4859 - accuracy: 0.5194 - val_loss: 0.6936 - val_accuracy: 0.4922\n",
            "Epoch 10/10\n",
            "6/6 [==============================] - 52s 9s/step - loss: 1.3772 - accuracy: 0.5552 - val_loss: 0.6911 - val_accuracy: 0.5156\n"
          ]
        }
      ]
    }
  ]
}